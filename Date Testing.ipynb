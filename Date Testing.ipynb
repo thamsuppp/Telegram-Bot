{
 "cells": [
  {
   "cell_type": "code",
   "execution_count": 2,
   "metadata": {
    "ExecuteTime": {
     "end_time": "2019-08-28T03:23:17.460481Z",
     "start_time": "2019-08-28T03:23:15.734106Z"
    }
   },
   "outputs": [],
   "source": [
    "import pandas as pd\n",
    "from datetime import datetime, timedelta"
   ]
  },
  {
   "cell_type": "code",
   "execution_count": 6,
   "metadata": {
    "ExecuteTime": {
     "end_time": "2019-08-28T03:24:36.723433Z",
     "start_time": "2019-08-28T03:24:36.718446Z"
    }
   },
   "outputs": [],
   "source": [
    "start_time = datetime.now()"
   ]
  },
  {
   "cell_type": "code",
   "execution_count": 5,
   "metadata": {
    "ExecuteTime": {
     "end_time": "2019-08-28T02:32:14.183026Z",
     "start_time": "2019-08-28T02:32:14.179036Z"
    }
   },
   "outputs": [],
   "source": [
    "end_time = datetime.now()"
   ]
  },
  {
   "cell_type": "code",
   "execution_count": 7,
   "metadata": {
    "ExecuteTime": {
     "end_time": "2019-08-28T02:32:27.204623Z",
     "start_time": "2019-08-28T02:32:27.200666Z"
    }
   },
   "outputs": [],
   "source": [
    "duration = end_time - start_time"
   ]
  },
  {
   "cell_type": "code",
   "execution_count": 13,
   "metadata": {
    "ExecuteTime": {
     "end_time": "2019-08-28T02:34:03.213076Z",
     "start_time": "2019-08-28T02:34:03.207093Z"
    }
   },
   "outputs": [
    {
     "data": {
      "text/plain": [
       "4"
      ]
     },
     "execution_count": 13,
     "metadata": {},
     "output_type": "execute_result"
    }
   ],
   "source": [
    "duration.seconds"
   ]
  },
  {
   "cell_type": "code",
   "execution_count": 16,
   "metadata": {
    "ExecuteTime": {
     "end_time": "2019-08-28T02:36:12.555730Z",
     "start_time": "2019-08-28T02:36:12.549749Z"
    }
   },
   "outputs": [
    {
     "data": {
      "text/plain": [
       "1"
      ]
     },
     "execution_count": 16,
     "metadata": {},
     "output_type": "execute_result"
    }
   ],
   "source": [
    "5 % 4\n"
   ]
  },
  {
   "cell_type": "code",
   "execution_count": 66,
   "metadata": {
    "ExecuteTime": {
     "end_time": "2019-08-28T03:55:14.714512Z",
     "start_time": "2019-08-28T03:55:14.710525Z"
    }
   },
   "outputs": [],
   "source": [
    "def format_time_delta(timedelta):\n",
    "    seconds = duration.seconds\n",
    "    hours = int(timedelta / 3600)\n",
    "    remaining = timedelta % 3600\n",
    "    minutes = int(remaining / 60)\n",
    "    remaining = remaining % 60\n",
    "    seconds = int(remaining)\n",
    "    \n",
    "    return '{}h {}min {}s'.format(hours, minutes, seconds)\n",
    "    "
   ]
  },
  {
   "cell_type": "code",
   "execution_count": 20,
   "metadata": {
    "ExecuteTime": {
     "end_time": "2019-08-28T02:37:47.485872Z",
     "start_time": "2019-08-28T02:37:47.477896Z"
    }
   },
   "outputs": [
    {
     "data": {
      "text/plain": [
       "'1h 1min 11s'"
      ]
     },
     "execution_count": 20,
     "metadata": {},
     "output_type": "execute_result"
    }
   ],
   "source": [
    "format_time_delta(3671)"
   ]
  },
  {
   "cell_type": "code",
   "execution_count": 25,
   "metadata": {
    "ExecuteTime": {
     "end_time": "2019-08-28T02:43:58.785210Z",
     "start_time": "2019-08-28T02:43:58.780192Z"
    }
   },
   "outputs": [
    {
     "name": "stdout",
     "output_type": "stream",
     "text": [
      "2019-08-27 22:32:09\n"
     ]
    }
   ],
   "source": [
    "start_time\n",
    "\n",
    "x = start_time - timedelta(microseconds=start_time.microsecond)\n",
    "\n",
    "print(x)"
   ]
  },
  {
   "cell_type": "code",
   "execution_count": 7,
   "metadata": {
    "ExecuteTime": {
     "end_time": "2019-08-28T03:24:38.153606Z",
     "start_time": "2019-08-28T03:24:38.142636Z"
    }
   },
   "outputs": [
    {
     "data": {
      "text/plain": [
       "datetime.date(2019, 8, 27)"
      ]
     },
     "execution_count": 7,
     "metadata": {},
     "output_type": "execute_result"
    }
   ],
   "source": [
    "start_time.date()\n"
   ]
  },
  {
   "cell_type": "code",
   "execution_count": 30,
   "metadata": {
    "ExecuteTime": {
     "end_time": "2019-08-28T03:32:28.110750Z",
     "start_time": "2019-08-28T03:32:28.099801Z"
    }
   },
   "outputs": [],
   "source": [
    "df = pd.read_csv('studytime.csv', parse_dates = ['Start', 'End', 'Duration'])"
   ]
  },
  {
   "cell_type": "code",
   "execution_count": 23,
   "metadata": {
    "ExecuteTime": {
     "end_time": "2019-08-28T03:31:38.443765Z",
     "start_time": "2019-08-28T03:31:38.435787Z"
    }
   },
   "outputs": [
    {
     "data": {
      "text/plain": [
       "0    2019-08-27\n",
       "1    2019-08-27\n",
       "2    2019-08-27\n",
       "3    2019-08-27\n",
       "Name: Start, dtype: object"
      ]
     },
     "execution_count": 23,
     "metadata": {},
     "output_type": "execute_result"
    }
   ],
   "source": [
    "df['Start'].apply(lambda x: x.date())"
   ]
  },
  {
   "cell_type": "code",
   "execution_count": 25,
   "metadata": {
    "ExecuteTime": {
     "end_time": "2019-08-28T03:31:41.058765Z",
     "start_time": "2019-08-28T03:31:41.049792Z"
    }
   },
   "outputs": [
    {
     "data": {
      "text/plain": [
       "0    True\n",
       "1    True\n",
       "2    True\n",
       "3    True\n",
       "Name: Start, dtype: bool"
      ]
     },
     "execution_count": 25,
     "metadata": {},
     "output_type": "execute_result"
    }
   ],
   "source": [
    "today_sessions = df['Start'].apply(lambda x: x.date() == start_time.date())\n",
    "today_sessions"
   ]
  },
  {
   "cell_type": "code",
   "execution_count": 26,
   "metadata": {
    "ExecuteTime": {
     "end_time": "2019-08-28T03:31:42.071059Z",
     "start_time": "2019-08-28T03:31:42.065075Z"
    }
   },
   "outputs": [],
   "source": [
    "df_filtered = df.loc[today_sessions, :]"
   ]
  },
  {
   "cell_type": "code",
   "execution_count": 27,
   "metadata": {
    "ExecuteTime": {
     "end_time": "2019-08-28T03:31:43.139201Z",
     "start_time": "2019-08-28T03:31:43.131222Z"
    }
   },
   "outputs": [
    {
     "data": {
      "text/plain": [
       "Start       datetime64[ns]\n",
       "End         datetime64[ns]\n",
       "Duration            object\n",
       "Subject             object\n",
       "Task                object\n",
       "dtype: object"
      ]
     },
     "execution_count": 27,
     "metadata": {},
     "output_type": "execute_result"
    }
   ],
   "source": [
    "df_filtered.dtypes"
   ]
  },
  {
   "cell_type": "code",
   "execution_count": 60,
   "metadata": {
    "ExecuteTime": {
     "end_time": "2019-08-28T03:51:05.935617Z",
     "start_time": "2019-08-28T03:51:05.928636Z"
    }
   },
   "outputs": [],
   "source": [
    "duration = (df_filtered['End'] - df_filtered['Start']).sum()"
   ]
  },
  {
   "cell_type": "code",
   "execution_count": 61,
   "metadata": {
    "ExecuteTime": {
     "end_time": "2019-08-28T03:51:06.971872Z",
     "start_time": "2019-08-28T03:51:06.966856Z"
    }
   },
   "outputs": [
    {
     "data": {
      "text/plain": [
       "'0h 0min 13s'"
      ]
     },
     "execution_count": 61,
     "metadata": {},
     "output_type": "execute_result"
    }
   ],
   "source": [
    "format_time_delta(duration.seconds)"
   ]
  },
  {
   "cell_type": "code",
   "execution_count": 40,
   "metadata": {
    "ExecuteTime": {
     "end_time": "2019-08-28T03:45:43.829589Z",
     "start_time": "2019-08-28T03:45:43.821609Z"
    }
   },
   "outputs": [],
   "source": [
    "#Grouping by subjects\n",
    "\n",
    "df['Duration'] = df['End'] - df['Start']\n",
    "subjects = df.groupby('Subject')['Duration'].sum()"
   ]
  },
  {
   "cell_type": "code",
   "execution_count": 65,
   "metadata": {
    "ExecuteTime": {
     "end_time": "2019-08-28T03:51:57.608939Z",
     "start_time": "2019-08-28T03:51:57.601959Z"
    }
   },
   "outputs": [
    {
     "data": {
      "text/plain": [
       "'CIS121: 0h 0min 8s \\nPWBM: 0h 0min 2s \\nURBS420: 0h 0min 2s \\n'"
      ]
     },
     "execution_count": 65,
     "metadata": {},
     "output_type": "execute_result"
    }
   ],
   "source": [
    "out = ''\n",
    "for subject, duration in subjects.iteritems():\n",
    "    out += '{}: {} \\n'.format(subject, format_time_delta(duration.seconds))\n",
    "\n",
    "out"
   ]
  }
 ],
 "metadata": {
  "hide_input": false,
  "kernelspec": {
   "display_name": "Python 3",
   "language": "python",
   "name": "python3"
  },
  "language_info": {
   "codemirror_mode": {
    "name": "ipython",
    "version": 3
   },
   "file_extension": ".py",
   "mimetype": "text/x-python",
   "name": "python",
   "nbconvert_exporter": "python",
   "pygments_lexer": "ipython3",
   "version": "3.7.3"
  },
  "toc": {
   "base_numbering": 1,
   "nav_menu": {},
   "number_sections": true,
   "sideBar": true,
   "skip_h1_title": false,
   "title_cell": "Table of Contents",
   "title_sidebar": "Contents",
   "toc_cell": false,
   "toc_position": {},
   "toc_section_display": true,
   "toc_window_display": false
  },
  "varInspector": {
   "cols": {
    "lenName": 16,
    "lenType": 16,
    "lenVar": 40
   },
   "kernels_config": {
    "python": {
     "delete_cmd_postfix": "",
     "delete_cmd_prefix": "del ",
     "library": "var_list.py",
     "varRefreshCmd": "print(var_dic_list())"
    },
    "r": {
     "delete_cmd_postfix": ") ",
     "delete_cmd_prefix": "rm(",
     "library": "var_list.r",
     "varRefreshCmd": "cat(var_dic_list()) "
    }
   },
   "types_to_exclude": [
    "module",
    "function",
    "builtin_function_or_method",
    "instance",
    "_Feature"
   ],
   "window_display": false
  }
 },
 "nbformat": 4,
 "nbformat_minor": 2
}
